{
 "cells": [
  {
   "cell_type": "markdown",
   "metadata": {},
   "source": [
    "UDP CLIENT ECHO SERVER PROGRAM\n",
    "\n",
    "CLIENT"
   ]
  },
  {
   "cell_type": "code",
   "execution_count": 1,
   "metadata": {},
   "outputs": [],
   "source": [
    "import socket\n",
    "s=socket.socket(socket.AF_INET,socket.SOCK_DGRAM)\n",
    "# connectionless protocol"
   ]
  },
  {
   "cell_type": "code",
   "execution_count": 7,
   "metadata": {},
   "outputs": [
    {
     "name": "stdout",
     "output_type": "stream",
     "text": [
      "Hello\n"
     ]
    }
   ],
   "source": [
    "a=(\"127.0.0.1\",9995)\n",
    "s.sendto(\"Hello\".encode(),a)\n",
    "msg,addr=s.recvfrom(1024)\n",
    "print(msg.decode())"
   ]
  }
 ],
 "metadata": {
  "kernelspec": {
   "display_name": "Python 3",
   "language": "python",
   "name": "python3"
  },
  "language_info": {
   "codemirror_mode": {
    "name": "ipython",
    "version": 3
   },
   "file_extension": ".py",
   "mimetype": "text/x-python",
   "name": "python",
   "nbconvert_exporter": "python",
   "pygments_lexer": "ipython3",
   "version": "3.8.5"
  }
 },
 "nbformat": 4,
 "nbformat_minor": 4
}
